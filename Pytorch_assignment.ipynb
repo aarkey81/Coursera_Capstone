{
 "cells": [
  {
   "cell_type": "markdown",
   "metadata": {},
   "source": [
    "# Fashion MNIST Classification Assignment"
   ]
  },
  {
   "cell_type": "markdown",
   "metadata": {},
   "source": [
    "In this project, you will train a Convolutional Neural Network to recognize images from fashion MNIST. You will be Marked on creating the dataset object and getting at least 85% accuracy on the validation data . You can open the lab in the next section. Follow the instructions, take a screen shot of you results and submit."
   ]
  },
  {
   "cell_type": "markdown",
   "metadata": {},
   "source": [
    "Usefull links:\n",
    "\n",
    "http://www.eamonfleming.com/projects/fashion-mnist.html\n",
    "\n",
    "https://www.kaggle.com/pankajj/fashion-mnist-with-pytorch-93-accuracy\n",
    "\n",
    "https://www.kaggle.com/tinydman/fashion-mnist-with-pytorch\n",
    "\n",
    "https://www.marktechpost.com/2019/07/30/introduction-to-image-classification-using-pytorch-to-classify-fashionmnist-dataset/\n",
    "\n",
    "https://github.com/pranay414/Fashion-MNIST-Pytorch\n",
    "\n",
    "https://towardsdatascience.com/build-a-fashion-mnist-cnn-pytorch-style-efb297e22582\n",
    "\n",
    "    "
   ]
  },
  {
   "cell_type": "markdown",
   "metadata": {},
   "source": [
    "Import libraries:"
   ]
  },
  {
   "cell_type": "code",
   "execution_count": 2,
   "metadata": {
    "collapsed": true
   },
   "outputs": [],
   "source": [
    "import numpy as np\n",
    "import pandas as pd\n",
    "import matplotlib.pyplot as plt\n",
    "import sklearn\n",
    "import torch\n",
    "import torchvision\n",
    "import torchvision.transforms as transforms\n",
    "import torch.nn as nn"
   ]
  },
  {
   "cell_type": "markdown",
   "metadata": {},
   "source": [
    "Load fashion-MNIST, create training and test sets and transform to tensors:"
   ]
  },
  {
   "cell_type": "code",
   "execution_count": 3,
   "metadata": {
    "collapsed": true
   },
   "outputs": [],
   "source": [
    "train_set = torchvision.datasets.FashionMNIST(\n",
    "    \"./data\", \n",
    "    download=True, \n",
    "    transform=transforms.Compose([transforms.ToTensor()])\n",
    "    )\n",
    "test_set = torchvision.datasets.FashionMNIST(\n",
    "    \"./data\", \n",
    "    download=True, \n",
    "    train=False, \n",
    "    transform=transforms.Compose([transforms.ToTensor()])\n",
    "    ) "
   ]
  },
  {
   "cell_type": "markdown",
   "metadata": {},
   "source": [
    "Make data batches:"
   ]
  },
  {
   "cell_type": "code",
   "execution_count": 4,
   "metadata": {
    "collapsed": true
   },
   "outputs": [],
   "source": [
    "train_loader = torch.utils.data.DataLoader(train_set, batch_size=100)\n",
    "test_loader = torch.utils.data.DataLoader(test_set, batch_size=100)"
   ]
  },
  {
   "cell_type": "markdown",
   "metadata": {},
   "source": [
    "Build a convolutinal neural network (CNN):"
   ]
  },
  {
   "cell_type": "code",
   "execution_count": 5,
   "metadata": {
    "collapsed": true
   },
   "outputs": [],
   "source": [
    "class FashCNN(nn.Module):\n",
    "    \n",
    "    def __init__(self):\n",
    "        super(FashCNN, self).__init__()\n",
    "        \n",
    "        #The 1st sequential layer: \n",
    "        self.layer1 = nn.Sequential(\n",
    "            #convolutional layer: input 28x28x3, output 28x28x32, kernel size 3, padding 1, stride 1\n",
    "            nn.Conv2d(in_channels=1, out_channels=32, kernel_size=3, padding=1),\n",
    "            #batch normalization layer\n",
    "            nn.BatchNorm2d(32),\n",
    "            #activation function ReLU\n",
    "            nn.ReLU(),\n",
    "            #max polling layer: input 28x28x32, output 14x14x32, kernel size 2, stride 2\n",
    "            nn.MaxPool2d(kernel_size=2, stride=2)\n",
    "        )\n",
    "        #The 2nd sequential layer:\n",
    "        self.layer2 = nn.Sequential(\n",
    "            #convolutional layer: input 14x14x32, output 12x12x64, kernel size 3, stride 1\n",
    "            nn.Conv2d(in_channels=32, out_channels=64, kernel_size=3),\n",
    "            #batch normalization layer\n",
    "            nn.BatchNorm2d(64),\n",
    "            #activation function ReLU\n",
    "            nn.ReLU(),\n",
    "            #max polling layer: input 12x12x64, output 6x6x64, kernel size 2, stride 1\n",
    "            nn.MaxPool2d(2)\n",
    "        )\n",
    "        #fully connected layer \n",
    "        self.fc1 = nn.Linear(in_features=2304, out_features=600) # 6*6*64\n",
    "        self.drop = nn.Dropout2d(0.25)\n",
    "        self.fc2 = nn.Linear(in_features=600, out_features=120)\n",
    "        self.fc3 = nn.Linear(in_features=120, out_features=10) #10 outpots are ten classes of clothes\n",
    "        \n",
    "    def forward(self, x):\n",
    "        out = self.layer1(x)\n",
    "        out = self.layer2(out)\n",
    "        out = out.view(out.size(0), -1)\n",
    "        out = self.fc1(out)\n",
    "        out = self.drop(out)\n",
    "        out = self.fc2(out)\n",
    "        out = self.fc3(out)\n",
    "        \n",
    "        return out\n",
    "\n"
   ]
  },
  {
   "cell_type": "markdown",
   "metadata": {},
   "source": [
    "Create a model:"
   ]
  },
  {
   "cell_type": "code",
   "execution_count": 6,
   "metadata": {
    "collapsed": true
   },
   "outputs": [],
   "source": [
    "model = FashCNN()"
   ]
  },
  {
   "cell_type": "markdown",
   "metadata": {},
   "source": [
    "Define the loss function and set optimizer:"
   ]
  },
  {
   "cell_type": "code",
   "execution_count": 7,
   "metadata": {
    "collapsed": false
   },
   "outputs": [
    {
     "name": "stdout",
     "output_type": "stream",
     "text": [
      "FashCNN(\n",
      "  (layer1): Sequential(\n",
      "    (0): Conv2d(1, 32, kernel_size=(3, 3), stride=(1, 1), padding=(1, 1))\n",
      "    (1): BatchNorm2d(32, eps=1e-05, momentum=0.1, affine=True, track_running_stats=True)\n",
      "    (2): ReLU()\n",
      "    (3): MaxPool2d(kernel_size=2, stride=2, padding=0, dilation=1, ceil_mode=False)\n",
      "  )\n",
      "  (layer2): Sequential(\n",
      "    (0): Conv2d(32, 64, kernel_size=(3, 3), stride=(1, 1))\n",
      "    (1): BatchNorm2d(64, eps=1e-05, momentum=0.1, affine=True, track_running_stats=True)\n",
      "    (2): ReLU()\n",
      "    (3): MaxPool2d(kernel_size=2, stride=2, padding=0, dilation=1, ceil_mode=False)\n",
      "  )\n",
      "  (fc1): Linear(in_features=2304, out_features=600, bias=True)\n",
      "  (drop): Dropout2d(p=0.25, inplace=False)\n",
      "  (fc2): Linear(in_features=600, out_features=120, bias=True)\n",
      "  (fc3): Linear(in_features=120, out_features=10, bias=True)\n",
      ")\n"
     ]
    }
   ],
   "source": [
    "error = nn.CrossEntropyLoss()\n",
    "\n",
    "learning_rate = 0.001\n",
    "optimizer = torch.optim.Adam(model.parameters(), lr=learning_rate)\n",
    "print(model)"
   ]
  },
  {
   "cell_type": "markdown",
   "metadata": {},
   "source": [
    "Train model:"
   ]
  },
  {
   "cell_type": "code",
   "execution_count": 8,
   "metadata": {
    "collapsed": false
   },
   "outputs": [
    {
     "name": "stdout",
     "output_type": "stream",
     "text": [
      "Epoch: 1, Iteration: 600, Loss: 0.2849252223968506, Accuracy: 87%\n",
      "Epoch: 2, Iteration: 1200, Loss: 0.24384941160678864, Accuracy: 87%\n",
      "Epoch: 3, Iteration: 1800, Loss: 0.196414053440094, Accuracy: 89%\n",
      "Epoch: 4, Iteration: 2400, Loss: 0.19214044511318207, Accuracy: 90%\n",
      "Epoch: 5, Iteration: 3000, Loss: 0.18706007301807404, Accuracy: 90%\n"
     ]
    }
   ],
   "source": [
    "num_epochs = 5\n",
    "count = 0\n",
    "\n",
    "# Loss value list\n",
    "loss_list = []\n",
    "# Iteration list\n",
    "iter_list = []\n",
    "# Accuracy value list\n",
    "acc_list = []\n",
    "# Epoch list\n",
    "epoch_list = []\n",
    "# Prediction list\n",
    "predictions_list = []\n",
    "# Label list\n",
    "labels_list = []\n",
    "\n",
    "for epoch in range(num_epochs):\n",
    "    #print('Epoch: #{}'.format(epoch))\n",
    "    #print(\"Epoch: {}, Iteration: {}, Loss: {}, Accuracy: {}%\".format(epoch, count, loss.data, accuracy))\n",
    "    for images_tr, labels_tr in train_loader:\n",
    "        # Forward propagiton\n",
    "        outputs = model(images_tr)\n",
    "        loss = error(outputs, labels_tr)\n",
    "        # Initialize a gradient as 0 \n",
    "        optimizer.zero_grad()\n",
    "        # Propagate the error backward\n",
    "        loss.backward()\n",
    "        # Optimize the parameters\n",
    "        optimizer.step()\n",
    "        count += 1\n",
    "    \n",
    "    # Test the model    \n",
    "    total = 0\n",
    "    correct = 0\n",
    "        \n",
    "    for images_ts, labels_ts in test_loader:\n",
    "        labels_list.append(labels_ts)\n",
    "        outputs = model(images_ts)\n",
    "       \n",
    "        predictions = torch.max(outputs, 1)[1]\n",
    "        predictions_list.append(predictions)\n",
    "        correct += (predictions == labels_ts).sum()\n",
    "            \n",
    "        total += len(labels_ts)\n",
    "            \n",
    "    accuracy = correct * 100 / total\n",
    "    loss_list.append(loss.data)\n",
    "    iter_list.append(count)\n",
    "    acc_list.append(accuracy)\n",
    "    print(\"Epoch: {}, Iteration: {}, Loss: {}, Accuracy: {}%\".format(epoch + 1, count, loss.data, accuracy))\n"
   ]
  },
  {
   "cell_type": "markdown",
   "metadata": {},
   "source": [
    "Instructions:"
   ]
  },
  {
   "cell_type": "markdown",
   "metadata": {},
   "source": [
    "1. Take a screen shot of the first three images of the validation dataset from the code provided . The function show_data"
   ]
  },
  {
   "cell_type": "markdown",
   "metadata": {},
   "source": [
    "Show_data function:"
   ]
  },
  {
   "cell_type": "code",
   "execution_count": 17,
   "metadata": {
    "collapsed": true
   },
   "outputs": [],
   "source": [
    "def show_data(data_sample):\n",
    "    plt.imshow(data_sample[0].numpy().reshape(IMAGE_SIZE, IMAGE_SIZE), cmap='gray')\n",
    "    #plt.title('y = '+ str(data_sample[1].item()))"
   ]
  },
  {
   "cell_type": "code",
   "execution_count": 20,
   "metadata": {
    "collapsed": false
   },
   "outputs": [
    {
     "data": {
      "image/png": "[encoded data removed]",
      "text/plain": [
       "<Figure size 432x288 with 1 Axes>"
      ]
     },
     "metadata": {
      "needs_background": "light"
     },
     "output_type": "display_data"
    }
   ],
   "source": [
    "IMAGE_SIZE = 28\n",
    "show_data(test_set[0])"
   ]
  },
  {
   "cell_type": "code",
   "execution_count": 21,
   "metadata": {
    "collapsed": false
   },
   "outputs": [
    {
     "data": {
      "image/png": "[encoded data removed]",
      "text/plain": [
       "<Figure size 432x288 with 1 Axes>"
      ]
     },
     "metadata": {
      "needs_background": "light"
     },
     "output_type": "display_data"
    }
   ],
   "source": [
    "show_data(test_set[1])"
   ]
  },
  {
   "cell_type": "code",
   "execution_count": 22,
   "metadata": {
    "collapsed": false
   },
   "outputs": [
    {
     "data": {
      "image/png": "[encoded data removed]",
      "text/plain": [
       "<Figure size 432x288 with 1 Axes>"
      ]
     },
     "metadata": {
      "needs_background": "light"
     },
     "output_type": "display_data"
    }
   ],
   "source": [
    "show_data(test_set[2])"
   ]
  },
  {
   "cell_type": "markdown",
   "metadata": {},
   "source": [
    "2. Use the plots provided in the lab to plot the Cost and accuracy. For the most part the cost should decrease and the accuracy should increase. The accuracy should be above 85% . "
   ]
  },
  {
   "cell_type": "code",
   "execution_count": 10,
   "metadata": {
    "collapsed": false
   },
   "outputs": [
    {
     "data": {
      "image/png": "[encoded data removed]",
      "text/plain": [
       "<Figure size 432x288 with 2 Axes>"
      ]
     },
     "metadata": {
      "needs_background": "light"
     },
     "output_type": "display_data"
    }
   ],
   "source": [
    "# Plot the loss and accuracy\n",
    "\n",
    "fig, ax1 = plt.subplots()\n",
    "color = 'tab:red'\n",
    "ax1.plot(loss_list, color=color)\n",
    "ax1.set_xlabel('epoch', color=color)\n",
    "ax1.set_ylabel('Cost', color=color)\n",
    "ax1.tick_params(axis='y', color=color)\n",
    "    \n",
    "ax2 = ax1.twinx()  \n",
    "color = 'tab:blue'\n",
    "ax2.set_ylabel('accuracy', color=color) \n",
    "ax2.set_xlabel('epoch', color=color)\n",
    "ax2.plot(acc_list, color=color)\n",
    "ax2.tick_params(axis='y', color=color)\n",
    "fig.tight_layout()"
   ]
  }
 ],
 "metadata": {
  "anaconda-cloud": {},
  "kernelspec": {
   "display_name": "Python [default]",
   "language": "python",
   "name": "python3"
  },
  "language_info": {
   "codemirror_mode": {
    "name": "ipython",
    "version": 3
   },
   "file_extension": ".py",
   "mimetype": "text/x-python",
   "name": "python",
   "nbconvert_exporter": "python",
   "pygments_lexer": "ipython3",
   "version": "3.5.2"
  }
 },
 "nbformat": 4,
 "nbformat_minor": 4
}
